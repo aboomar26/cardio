{
 "cells": [
  {
   "cell_type": "code",
   "execution_count": 87,
   "id": "defc7dad",
   "metadata": {},
   "outputs": [],
   "source": [
    "import pandas as pd\n",
    "import numpy as np\n",
    "from sklearn.model_selection import train_test_split, GridSearchCV, RandomizedSearchCV, StratifiedKFold\n",
    "from sklearn.preprocessing import OneHotEncoder, StandardScaler, LabelEncoder\n",
    "from sklearn.compose import ColumnTransformer\n",
    "from sklearn.pipeline import Pipeline\n",
    "from sklearn.metrics import classification_report, confusion_matrix, accuracy_score, f1_score\n",
    "from sklearn.ensemble import VotingClassifier\n",
    "from xgboost import XGBClassifier\n",
    "from lightgbm import LGBMClassifier\n",
    "from sklearn.ensemble import RandomForestClassifier\n",
    "from imblearn.over_sampling import SMOTE, ADASYN\n",
    "from imblearn.under_sampling import RandomUnderSampler\n",
    "from imblearn.combine import SMOTETomek\n",
    "from sklearn.utils.class_weight import compute_class_weight\n",
    "from sklearn.utils import shuffle\n",
    "import shap\n",
    "import matplotlib.pyplot as plt\n",
    "import seaborn as sns\n",
    "import warnings\n",
    "import joblib"
   ]
  },
  {
   "cell_type": "code",
   "execution_count": 88,
   "id": "14aa6523",
   "metadata": {},
   "outputs": [],
   "source": [
    "warnings.filterwarnings('ignore')"
   ]
  },
  {
   "cell_type": "code",
   "execution_count": 89,
   "id": "fb2d3e76",
   "metadata": {},
   "outputs": [],
   "source": [
    "clinical = pd.read_csv(r\"D:\\Projects\\Cardiac Patient Monitoring System\\lstm data\\clinical_info.csv\")"
   ]
  },
  {
   "cell_type": "code",
   "execution_count": 177,
   "id": "fd8d9539",
   "metadata": {},
   "outputs": [],
   "source": [
    "\n",
    "def assign_risk_label(row):\n",
    "    if row[\"death_inhosp\"] == 1:\n",
    "        return 2  # Critical\n",
    "    elif row[\"icu_days\"] >= 3:\n",
    "        return 1  # Moderate\n",
    "    else:\n",
    "        return 0  # Stable"
   ]
  },
  {
   "cell_type": "code",
   "execution_count": 178,
   "id": "6093d7b4",
   "metadata": {},
   "outputs": [
    {
     "name": "stdout",
     "output_type": "stream",
     "text": [
      "risk_label\n",
      "0    6065\n",
      "1     266\n",
      "2      57\n",
      "Name: count, dtype: int64\n",
      "risk_label\n",
      "0    0.949436\n",
      "1    0.041641\n",
      "2    0.008923\n",
      "Name: proportion, dtype: float64\n"
     ]
    }
   ],
   "source": [
    "clinical[\"risk_label\"] = clinical.apply(assign_risk_label, axis=1)\n",
    "\n",
    "print(clinical[\"risk_label\"].value_counts())\n",
    "\n",
    "print(clinical[\"risk_label\"].value_counts(normalize=True))"
   ]
  },
  {
   "cell_type": "code",
   "execution_count": 179,
   "id": "2a85a20d",
   "metadata": {},
   "outputs": [],
   "source": [
    "clinical['bun_cr_ratio'] = clinical['preop_bun'] / (clinical['preop_cr'] + 1e-3)\n",
    "clinical['na_k_ratio'] = clinical['preop_na'] / (clinical['preop_k'] + 1e-3)\n",
    "clinical['htn_dm'] = clinical['preop_htn'].apply(lambda x: 1 if x == 'Y' else 0) + clinical['preop_dm'].apply(lambda x: 1 if x == 'Y' else 0)\n",
    "clinical['hb_by_bun'] = clinical['preop_hb'] / (clinical['preop_bun'] + 1e-3)\n",
    "clinical['alb_by_cr'] = clinical['preop_alb'] / (clinical['preop_cr'] + 1e-3)\n",
    "clinical['electrolyte_ratio'] = clinical['preop_na'] / (clinical['preop_k'] + 1e-3)\n",
    "clinical['gluc_by_bmi'] = clinical['preop_gluc'] / (clinical['bmi'] + 1e-3)\n",
    "clinical['hb_by_weight'] = clinical['preop_hb'] / (clinical['weight'] + 1e-3)\n",
    "clinical['plt_by_pt'] = clinical['preop_plt'] / (clinical['preop_pt'] + 1e-3)"
   ]
  },
  {
   "cell_type": "code",
   "execution_count": 180,
   "id": "57b674a5",
   "metadata": {},
   "outputs": [],
   "source": [
    "clinical['bmi_category'] = pd.cut(clinical['bmi'], bins=[0, 18.5, 24.9, 29.9, 100], \n",
    "                                 labels=['underweight', 'normal', 'overweight', 'obese'])\n",
    "clinical['age_group'] = pd.cut(clinical['age'], bins=[0, 40, 60, 80, 200], \n",
    "                              labels=['young', 'middle', 'senior', 'elderly'])"
   ]
  },
  {
   "cell_type": "code",
   "execution_count": 181,
   "id": "173b74df",
   "metadata": {},
   "outputs": [],
   "source": [
    "selected_features = [\n",
    "    'age', 'sex', 'bmi', 'age_group', 'bmi_category',\n",
    "    'preop_htn', 'preop_dm', 'preop_ecg', 'preop_pft',\n",
    "    'preop_hb', 'preop_plt', 'preop_pt', 'preop_aptt',\n",
    "    'preop_na', 'preop_k', 'preop_gluc', 'preop_alb',\n",
    "    'preop_ast', 'preop_alt', 'preop_bun', 'preop_cr',\n",
    "    'bun_cr_ratio', 'na_k_ratio', 'htn_dm', 'hb_by_bun', 'alb_by_cr',\n",
    "    'electrolyte_ratio', 'gluc_by_bmi', 'hb_by_weight', 'plt_by_pt'\n",
    "]\n",
    "\n"
   ]
  },
  {
   "cell_type": "code",
   "execution_count": 182,
   "id": "9fb04fc6",
   "metadata": {},
   "outputs": [],
   "source": [
    "df = clinical[selected_features + ['risk_label']].copy()\n",
    "df = df.dropna()"
   ]
  },
  {
   "cell_type": "code",
   "execution_count": 183,
   "id": "487418e6",
   "metadata": {
    "scrolled": true
   },
   "outputs": [
    {
     "name": "stdout",
     "output_type": "stream",
     "text": [
      "(5617, 31)\n"
     ]
    }
   ],
   "source": [
    "print(df.shape)"
   ]
  },
  {
   "cell_type": "code",
   "execution_count": 184,
   "id": "7d1a076a",
   "metadata": {},
   "outputs": [],
   "source": [
    "df['preop_htn'] = df['preop_htn'].replace({1: 'Y', 0: 'N'})\n",
    "df['preop_dm'] = df['preop_dm'].replace({1: 'Y', 0: 'N'})"
   ]
  },
  {
   "cell_type": "code",
   "execution_count": null,
   "id": "97275c50",
   "metadata": {},
   "outputs": [],
   "source": [
    "\n",
    "X = df.drop('risk_label', axis=1)\n",
    "y = df['risk_label']"
   ]
  },
  {
   "cell_type": "code",
   "execution_count": 186,
   "id": "be3fd087",
   "metadata": {},
   "outputs": [],
   "source": [
    "categorical_cols = ['sex', 'preop_htn', 'preop_dm', 'preop_ecg', 'preop_pft', 'bmi_category', 'age_group']\n",
    "numeric_cols = [col for col in X.columns if col not in categorical_cols]"
   ]
  },
  {
   "cell_type": "code",
   "execution_count": 187,
   "id": "d6394855",
   "metadata": {},
   "outputs": [
    {
     "name": "stdout",
     "output_type": "stream",
     "text": [
      "23\n",
      "7\n"
     ]
    }
   ],
   "source": [
    "print(len(numeric_cols))\n",
    "print(len(categorical_cols))"
   ]
  },
  {
   "cell_type": "code",
   "execution_count": null,
   "id": "a7bac02c",
   "metadata": {},
   "outputs": [],
   "source": [
    "\n",
    "\n",
    "from sklearn.preprocessing import OneHotEncoder\n",
    "\n",
    "\n",
    "sex_categories = ['F', 'M']\n",
    "preop_htn_categories = ['N', 'Y']\n",
    "preop_dm_categories = ['N', 'Y']\n",
    "preop_ecg_categories = clinical['preop_ecg'].dropna().unique().tolist()\n",
    "preop_pft_categories = clinical['preop_pft'].dropna().unique().tolist()\n",
    "bmi_category_categories = ['underweight', 'normal', 'overweight', 'obese']\n",
    "age_group_categories = ['young', 'middle', 'senior', 'elderly']\n",
    "\n",
    "\n",
    "encoder = OneHotEncoder(\n",
    "    handle_unknown='ignore',\n",
    "    drop='first',\n",
    "    categories=[\n",
    "        sex_categories,\n",
    "        preop_htn_categories,\n",
    "        preop_dm_categories,\n",
    "        preop_ecg_categories,\n",
    "        preop_pft_categories,\n",
    "        bmi_category_categories,\n",
    "        age_group_categories\n",
    "    ]\n",
    ")\n",
    "\n",
    "preprocessor = ColumnTransformer([\n",
    "    ('num', StandardScaler(), numeric_cols),\n",
    "    ('cat', encoder, categorical_cols)\n",
    "])\n"
   ]
  },
  {
   "cell_type": "code",
   "execution_count": null,
   "id": "15a1bd5c",
   "metadata": {},
   "outputs": [],
   "source": [
    "\n",
    "X_train, X_test, y_train, y_test = train_test_split(X, y, test_size=0.2, random_state=42, stratify=y)"
   ]
  },
  {
   "cell_type": "code",
   "execution_count": 149,
   "id": "9f351dda",
   "metadata": {
    "scrolled": true
   },
   "outputs": [
    {
     "name": "stdout",
     "output_type": "stream",
     "text": [
      "(4493, 30)\n",
      "(1124, 30)\n"
     ]
    }
   ],
   "source": [
    "print(X_train.shape)\n",
    "print(X_test.shape)"
   ]
  },
  {
   "cell_type": "code",
   "execution_count": 190,
   "id": "068a36fc",
   "metadata": {},
   "outputs": [
    {
     "name": "stdout",
     "output_type": "stream",
     "text": [
      "sex: ['F' 'M']\n",
      "preop_htn: ['N' 'Y']\n",
      "preop_dm: ['N' 'Y']\n",
      "preop_ecg: ['Normal Sinus Rhythm' 'Left anterior fascicular block'\n",
      " '1st degree A-V block, Left bundle branch block' '1st degree A-V block'\n",
      " 'Atrial fibrillation'\n",
      " 'Incomplete right bundle branch block, Left anterior fascicular block'\n",
      " 'Atrial fibrillation, Right bundle branch block'\n",
      " 'Premature supraventricular and ventricular complexes, Right bundle branch block'\n",
      " 'Atrial fibrillation with slow ventricular response'\n",
      " 'Right bundle branch block' 'Incomplete right bundle branch block'\n",
      " 'Left anterior hemiblock'\n",
      " 'Atrial fibrillation with rapid ventricular response'\n",
      " 'Premature ventricular complexes' 'Left posterior fascicular block'\n",
      " 'Atrial fibrillation with premature ventricular, Incomplete left bundle block'\n",
      " 'Premature atrial complexes'\n",
      " '1st degree A-V block with Premature supraventricular complexes, Left bundle branch block'\n",
      " '1st degree A-V block with Premature atrial complexes'\n",
      " 'Atrial fibrillation with premature ventricular or aberrantly conducted complexes'\n",
      " 'Atrial flutter with 2:1 A-V conduction'\n",
      " 'Premature supraventricular complexes' 'Electronic ventricular pacemaker'\n",
      " 'AV sequential or dual chamber electronic pacemaker'\n",
      " 'Right bundle branch block, Left anterior fascicular block'\n",
      " 'Complete right bundle branch block, occasional premature supraventricular complexes'\n",
      " 'Atrial flutter with variable A-V block']\n",
      "preop_pft: ['Normal' 'Mild obstructive' 'Mild restrictive' 'Moderate obstructive'\n",
      " 'Borderline obstructive' 'Mixed or pure obstructive' 'Severe restrictive'\n",
      " 'Moderate restrictive' 'Severe obstructive']\n",
      "bmi_category: ['underweight' 'normal' 'overweight' 'obese']\n",
      "age_group: ['young' 'middle' 'senior' 'elderly']\n"
     ]
    }
   ],
   "source": [
    "cat_encoder = loaded_preprocessor.named_transformers_['cat']\n",
    "\n",
    "for col, cats in zip(categorical_cols, cat_encoder.categories_):\n",
    "    print(f\"{col}: {cats}\")\n"
   ]
  },
  {
   "cell_type": "code",
   "execution_count": 150,
   "id": "3a5eda9b",
   "metadata": {},
   "outputs": [
    {
     "name": "stdout",
     "output_type": "stream",
     "text": [
      "sex               object\n",
      "preop_htn         object\n",
      "preop_dm          object\n",
      "preop_ecg         object\n",
      "preop_pft         object\n",
      "bmi_category    category\n",
      "age_group       category\n",
      "dtype: object\n",
      "     sex preop_htn preop_dm            preop_ecg             preop_pft  \\\n",
      "1408   F         Y        N  Normal Sinus Rhythm      Mild restrictive   \n",
      "841    M         N        N  Normal Sinus Rhythm                Normal   \n",
      "487    F         N        N  Normal Sinus Rhythm                Normal   \n",
      "461    F         Y        N  Normal Sinus Rhythm  Moderate obstructive   \n",
      "696    M         N        N  Normal Sinus Rhythm                Normal   \n",
      "\n",
      "     bmi_category age_group  \n",
      "1408   overweight    middle  \n",
      "841        normal     young  \n",
      "487        normal    middle  \n",
      "461        normal   elderly  \n",
      "696   underweight    middle  \n"
     ]
    }
   ],
   "source": [
    "print(X_train[categorical_cols].dtypes)\n",
    "print(X_train[categorical_cols].head())\n"
   ]
  },
  {
   "cell_type": "code",
   "execution_count": 151,
   "id": "acbe5866",
   "metadata": {},
   "outputs": [],
   "source": [
    "X_train_processed = preprocessor.fit_transform(X_train)\n",
    "X_test_processed = preprocessor.transform(X_test)"
   ]
  },
  {
   "cell_type": "code",
   "execution_count": 152,
   "id": "e3cd1128",
   "metadata": {},
   "outputs": [
    {
     "name": "stdout",
     "output_type": "stream",
     "text": [
      "risk_label\n",
      "0    4273\n",
      "1     185\n",
      "2      35\n",
      "Name: count, dtype: int64\n"
     ]
    }
   ],
   "source": [
    "\n",
    "print(pd.Series(y_train).value_counts())"
   ]
  },
  {
   "cell_type": "code",
   "execution_count": null,
   "id": "a76fe8b4",
   "metadata": {},
   "outputs": [
    {
     "name": "stdout",
     "output_type": "stream",
     "text": [
      "\n",
      "بعد SMOTE: risk_label\n",
      "0    4273\n",
      "1    4273\n",
      "2    4273\n",
      "Name: count, dtype: int64\n",
      "بعد ADASYN: risk_label\n",
      "2    4283\n",
      "1    4277\n",
      "0    4273\n",
      "Name: count, dtype: int64\n",
      "بعد SMOTETomek: risk_label\n",
      "2    4273\n",
      "0    4272\n",
      "1    4272\n",
      "Name: count, dtype: int64\n"
     ]
    }
   ],
   "source": [
    "#  SMOTE\n",
    "smote = SMOTE(random_state=42, k_neighbors=3)\n",
    "X_train_smote, y_train_smote = smote.fit_resample(X_train_processed, y_train)\n",
    "\n",
    "# ADASYN\n",
    "adasyn = ADASYN(random_state=42, n_neighbors=3)\n",
    "X_train_adasyn, y_train_adasyn = adasyn.fit_resample(X_train_processed, y_train)\n",
    "\n",
    "# SMOTETomek\n",
    "smotetomek = SMOTETomek(random_state=42)\n",
    "X_train_smotetomek, y_train_smotetomek = smotetomek.fit_resample(X_train_processed, y_train)\n",
    "\n",
    "print(f\"\\nSMOTE: {pd.Series(y_train_smote).value_counts()}\")\n",
    "print(f\"ADASYN: {pd.Series(y_train_adasyn).value_counts()}\")\n",
    "print(f\"SMOTETomek: {pd.Series(y_train_smotetomek).value_counts()}\")"
   ]
  },
  {
   "cell_type": "code",
   "execution_count": 154,
   "id": "702a2530",
   "metadata": {},
   "outputs": [
    {
     "name": "stdout",
     "output_type": "stream",
     "text": [
      "{0: 0.35049535845229735, 1: 8.095495495495495, 2: 42.79047619047619}\n"
     ]
    }
   ],
   "source": [
    "class_weights = compute_class_weight('balanced', classes=np.unique(y_train), y=y_train)\n",
    "class_weight_dict = {i: weight for i, weight in enumerate(class_weights)}\n",
    "print(class_weight_dict)"
   ]
  },
  {
   "cell_type": "code",
   "execution_count": 155,
   "id": "a5124652",
   "metadata": {},
   "outputs": [],
   "source": [
    "def create_models():\n",
    "    # XGBoost \n",
    "    xgb_balanced = XGBClassifier(\n",
    "        objective='multi:softprob',\n",
    "        num_class=3,\n",
    "        eval_metric='mlogloss',\n",
    "        use_label_encoder=False,\n",
    "        random_state=42,\n",
    "        n_estimators=300,\n",
    "        learning_rate=0.1,\n",
    "        max_depth=6,\n",
    "        subsample=0.8,\n",
    "        colsample_bytree=0.8,\n",
    "        reg_alpha=0.1,\n",
    "        reg_lambda=0.1,\n",
    "        scale_pos_weight=1,\n",
    "        tree_method='hist'\n",
    "    )\n",
    "    \n",
    "    # Random Forest \n",
    "    rf_balanced = RandomForestClassifier(\n",
    "        n_estimators=300,\n",
    "        max_depth=15,\n",
    "        min_samples_split=5,\n",
    "        min_samples_leaf=2,\n",
    "        class_weight='balanced',\n",
    "        random_state=42,\n",
    "        n_jobs=-1\n",
    "    )\n",
    "    \n",
    "    # LightGBM \n",
    "    lgbm_balanced = LGBMClassifier(\n",
    "        objective='multiclass',\n",
    "        num_class=3,\n",
    "        class_weight='balanced',\n",
    "        n_estimators=300,\n",
    "        learning_rate=0.1,\n",
    "        max_depth=6,\n",
    "        random_state=42,\n",
    "        verbose=-1\n",
    "    )\n",
    "    \n",
    "    return xgb_balanced, rf_balanced, lgbm_balanced"
   ]
  },
  {
   "cell_type": "code",
   "execution_count": 156,
   "id": "8642f695",
   "metadata": {},
   "outputs": [],
   "source": [
    "def evaluate_model(model, X_train_data, y_train_data, X_test_data, y_test_data, method_name):\n",
    "    print(method_name)\n",
    "    \n",
    "    model.fit(X_train_data, y_train_data)\n",
    "    y_pred = model.predict(X_test_data)\n",
    "    \n",
    "    accuracy = accuracy_score(y_test_data, y_pred)\n",
    "    f1_macro = f1_score(y_test_data, y_pred, average='macro')\n",
    "    f1_weighted = f1_score(y_test_data, y_pred, average='weighted')\n",
    "    \n",
    "    print(f\"accuracy: {accuracy:.4f}\")\n",
    "    print(f\"F1-Score (Macro): {f1_macro:.4f}\")\n",
    "    print(f\"F1-Score (Weighted): {f1_weighted:.4f}\")\n",
    "    \n",
    "    print(\"\\nclassification_report:\")\n",
    "    print(classification_report(y_test_data, y_pred))\n",
    "    \n",
    "    print(\"\\nconfusion_matrix:\")\n",
    "    print(confusion_matrix(y_test_data, y_pred))\n",
    "    \n",
    "    return accuracy, f1_macro, f1_weighted\n",
    "\n",
    "\n",
    "results = {}"
   ]
  },
  {
   "cell_type": "code",
   "execution_count": null,
   "id": "a13451bd",
   "metadata": {},
   "outputs": [
    {
     "name": "stdout",
     "output_type": "stream",
     "text": [
      "XGBoost + SMOTE\n",
      "accuracy: 0.9671\n",
      "F1-Score (Macro): 0.5840\n",
      "F1-Score (Weighted): 0.9610\n",
      "\n",
      "classification_report:\n",
      "              precision    recall  f1-score   support\n",
      "\n",
      "           0       0.97      1.00      0.98      1069\n",
      "           1       0.75      0.46      0.57        46\n",
      "           2       1.00      0.11      0.20         9\n",
      "\n",
      "    accuracy                           0.97      1124\n",
      "   macro avg       0.91      0.52      0.58      1124\n",
      "weighted avg       0.96      0.97      0.96      1124\n",
      "\n",
      "\n",
      "confusion_matrix:\n",
      "[[1065    4    0]\n",
      " [  25   21    0]\n",
      " [   5    3    1]]\n"
     ]
    }
   ],
   "source": [
    "\n",
    "xgb_model, rf_model, lgbm_model = create_models()\n",
    "acc, f1_mac, f1_wei = evaluate_model(xgb_model, X_train_smote, y_train_smote, \n",
    "                                    X_test_processed, y_test, \"XGBoost + SMOTE\")\n",
    "results['XGBoost_SMOTE'] = {'accuracy': acc, 'f1_macro': f1_mac, 'f1_weighted': f1_wei}"
   ]
  },
  {
   "cell_type": "code",
   "execution_count": null,
   "id": "5e9b6911",
   "metadata": {},
   "outputs": [
    {
     "name": "stdout",
     "output_type": "stream",
     "text": [
      "Random Forest + ADASYN\n",
      "accuracy: 0.9680\n",
      "F1-Score (Macro): 0.5867\n",
      "F1-Score (Weighted): 0.9617\n",
      "\n",
      "classification_report:\n",
      "              precision    recall  f1-score   support\n",
      "\n",
      "           0       0.97      1.00      0.98      1069\n",
      "           1       0.78      0.46      0.58        46\n",
      "           2       1.00      0.11      0.20         9\n",
      "\n",
      "    accuracy                           0.97      1124\n",
      "   macro avg       0.92      0.52      0.59      1124\n",
      "weighted avg       0.96      0.97      0.96      1124\n",
      "\n",
      "\n",
      "confusion_matrix:\n",
      "[[1066    3    0]\n",
      " [  25   21    0]\n",
      " [   5    3    1]]\n"
     ]
    }
   ],
   "source": [
    "\n",
    "xgb_model, rf_model, lgbm_model = create_models()\n",
    "acc, f1_mac, f1_wei = evaluate_model(rf_model, X_train_adasyn, y_train_adasyn, \n",
    "                                    X_test_processed, y_test, \"Random Forest + ADASYN\")\n",
    "results['RF_ADASYN'] = {'accuracy': acc, 'f1_macro': f1_mac, 'f1_weighted': f1_wei}"
   ]
  },
  {
   "cell_type": "code",
   "execution_count": 159,
   "id": "337f2d6c",
   "metadata": {},
   "outputs": [
    {
     "name": "stdout",
     "output_type": "stream",
     "text": [
      "LightGBM + SMOTETomek\n",
      "accuracy: 0.9635\n",
      "F1-Score (Macro): 0.5561\n",
      "F1-Score (Weighted): 0.9559\n",
      "\n",
      "classification_report:\n",
      "              precision    recall  f1-score   support\n",
      "\n",
      "           0       0.97      1.00      0.98      1069\n",
      "           1       0.71      0.37      0.49        46\n",
      "           2       1.00      0.11      0.20         9\n",
      "\n",
      "    accuracy                           0.96      1124\n",
      "   macro avg       0.89      0.49      0.56      1124\n",
      "weighted avg       0.96      0.96      0.96      1124\n",
      "\n",
      "\n",
      "confusion_matrix:\n",
      "[[1065    4    0]\n",
      " [  29   17    0]\n",
      " [   5    3    1]]\n"
     ]
    }
   ],
   "source": [
    "# 3. LightGBM مع SMOTETomek\n",
    "xgb_model, rf_model, lgbm_model = create_models()\n",
    "acc, f1_mac, f1_wei = evaluate_model(lgbm_model, X_train_smotetomek, y_train_smotetomek, \n",
    "                                    X_test_processed, y_test, \"LightGBM + SMOTETomek\")\n",
    "results['LGBM_SMOTETomek'] = {'accuracy': acc, 'f1_macro': f1_mac, 'f1_weighted': f1_wei}\n"
   ]
  },
  {
   "cell_type": "code",
   "execution_count": null,
   "id": "888ec4af",
   "metadata": {},
   "outputs": [
    {
     "data": {
      "text/html": [
       "<style>#sk-container-id-4 {color: black;}#sk-container-id-4 pre{padding: 0;}#sk-container-id-4 div.sk-toggleable {background-color: white;}#sk-container-id-4 label.sk-toggleable__label {cursor: pointer;display: block;width: 100%;margin-bottom: 0;padding: 0.3em;box-sizing: border-box;text-align: center;}#sk-container-id-4 label.sk-toggleable__label-arrow:before {content: \"▸\";float: left;margin-right: 0.25em;color: #696969;}#sk-container-id-4 label.sk-toggleable__label-arrow:hover:before {color: black;}#sk-container-id-4 div.sk-estimator:hover label.sk-toggleable__label-arrow:before {color: black;}#sk-container-id-4 div.sk-toggleable__content {max-height: 0;max-width: 0;overflow: hidden;text-align: left;background-color: #f0f8ff;}#sk-container-id-4 div.sk-toggleable__content pre {margin: 0.2em;color: black;border-radius: 0.25em;background-color: #f0f8ff;}#sk-container-id-4 input.sk-toggleable__control:checked~div.sk-toggleable__content {max-height: 200px;max-width: 100%;overflow: auto;}#sk-container-id-4 input.sk-toggleable__control:checked~label.sk-toggleable__label-arrow:before {content: \"▾\";}#sk-container-id-4 div.sk-estimator input.sk-toggleable__control:checked~label.sk-toggleable__label {background-color: #d4ebff;}#sk-container-id-4 div.sk-label input.sk-toggleable__control:checked~label.sk-toggleable__label {background-color: #d4ebff;}#sk-container-id-4 input.sk-hidden--visually {border: 0;clip: rect(1px 1px 1px 1px);clip: rect(1px, 1px, 1px, 1px);height: 1px;margin: -1px;overflow: hidden;padding: 0;position: absolute;width: 1px;}#sk-container-id-4 div.sk-estimator {font-family: monospace;background-color: #f0f8ff;border: 1px dotted black;border-radius: 0.25em;box-sizing: border-box;margin-bottom: 0.5em;}#sk-container-id-4 div.sk-estimator:hover {background-color: #d4ebff;}#sk-container-id-4 div.sk-parallel-item::after {content: \"\";width: 100%;border-bottom: 1px solid gray;flex-grow: 1;}#sk-container-id-4 div.sk-label:hover label.sk-toggleable__label {background-color: #d4ebff;}#sk-container-id-4 div.sk-serial::before {content: \"\";position: absolute;border-left: 1px solid gray;box-sizing: border-box;top: 0;bottom: 0;left: 50%;z-index: 0;}#sk-container-id-4 div.sk-serial {display: flex;flex-direction: column;align-items: center;background-color: white;padding-right: 0.2em;padding-left: 0.2em;position: relative;}#sk-container-id-4 div.sk-item {position: relative;z-index: 1;}#sk-container-id-4 div.sk-parallel {display: flex;align-items: stretch;justify-content: center;background-color: white;position: relative;}#sk-container-id-4 div.sk-item::before, #sk-container-id-4 div.sk-parallel-item::before {content: \"\";position: absolute;border-left: 1px solid gray;box-sizing: border-box;top: 0;bottom: 0;left: 50%;z-index: -1;}#sk-container-id-4 div.sk-parallel-item {display: flex;flex-direction: column;z-index: 1;position: relative;background-color: white;}#sk-container-id-4 div.sk-parallel-item:first-child::after {align-self: flex-end;width: 50%;}#sk-container-id-4 div.sk-parallel-item:last-child::after {align-self: flex-start;width: 50%;}#sk-container-id-4 div.sk-parallel-item:only-child::after {width: 0;}#sk-container-id-4 div.sk-dashed-wrapped {border: 1px dashed gray;margin: 0 0.4em 0.5em 0.4em;box-sizing: border-box;padding-bottom: 0.4em;background-color: white;}#sk-container-id-4 div.sk-label label {font-family: monospace;font-weight: bold;display: inline-block;line-height: 1.2em;}#sk-container-id-4 div.sk-label-container {text-align: center;}#sk-container-id-4 div.sk-container {/* jupyter's `normalize.less` sets `[hidden] { display: none; }` but bootstrap.min.css set `[hidden] { display: none !important; }` so we also need the `!important` here to be able to override the default hidden behavior on the sphinx rendered scikit-learn.org. See: https://github.com/scikit-learn/scikit-learn/issues/21755 */display: inline-block !important;position: relative;}#sk-container-id-4 div.sk-text-repr-fallback {display: none;}</style><div id=\"sk-container-id-4\" class=\"sk-top-container\"><div class=\"sk-text-repr-fallback\"><pre>LGBMClassifier(class_weight=&#x27;balanced&#x27;, max_depth=6, n_estimators=300,\n",
       "               num_class=3, objective=&#x27;multiclass&#x27;, random_state=42,\n",
       "               verbose=-1)</pre><b>In a Jupyter environment, please rerun this cell to show the HTML representation or trust the notebook. <br />On GitHub, the HTML representation is unable to render, please try loading this page with nbviewer.org.</b></div><div class=\"sk-container\" hidden><div class=\"sk-item\"><div class=\"sk-estimator sk-toggleable\"><input class=\"sk-toggleable__control sk-hidden--visually\" id=\"sk-estimator-id-4\" type=\"checkbox\" checked><label for=\"sk-estimator-id-4\" class=\"sk-toggleable__label sk-toggleable__label-arrow\">LGBMClassifier</label><div class=\"sk-toggleable__content\"><pre>LGBMClassifier(class_weight=&#x27;balanced&#x27;, max_depth=6, n_estimators=300,\n",
       "               num_class=3, objective=&#x27;multiclass&#x27;, random_state=42,\n",
       "               verbose=-1)</pre></div></div></div></div></div>"
      ],
      "text/plain": [
       "LGBMClassifier(class_weight='balanced', max_depth=6, n_estimators=300,\n",
       "               num_class=3, objective='multiclass', random_state=42,\n",
       "               verbose=-1)"
      ]
     },
     "execution_count": 160,
     "metadata": {},
     "output_type": "execute_result"
    }
   ],
   "source": [
    "\n",
    "\n",
    "xgb_best, rf_best, lgbm_best = create_models()\n",
    "\n",
    "xgb_best.fit(X_train_smote, y_train_smote)\n",
    "rf_best.fit(X_train_smote, y_train_smote)\n",
    "lgbm_best.fit(X_train_smote, y_train_smote)"
   ]
  },
  {
   "cell_type": "code",
   "execution_count": 161,
   "id": "d2dcfee5",
   "metadata": {},
   "outputs": [],
   "source": [
    "#  Ensemble\n",
    "ensemble_model = VotingClassifier(\n",
    "    estimators=[\n",
    "        ('xgb', xgb_best),\n",
    "        ('rf', rf_best),\n",
    "        ('lgbm', lgbm_best)\n",
    "    ], \n",
    "    voting='soft'\n",
    ")"
   ]
  },
  {
   "cell_type": "code",
   "execution_count": 162,
   "id": "9ef292a4",
   "metadata": {},
   "outputs": [
    {
     "name": "stdout",
     "output_type": "stream",
     "text": [
      "Ensemble + SMOTE\n",
      "accuracy: 0.9689\n",
      "F1-Score (Macro): 0.5968\n",
      "F1-Score (Weighted): 0.9634\n",
      "\n",
      "classification_report:\n",
      "              precision    recall  f1-score   support\n",
      "\n",
      "           0       0.97      1.00      0.99      1069\n",
      "           1       0.77      0.50      0.61        46\n",
      "           2       1.00      0.11      0.20         9\n",
      "\n",
      "    accuracy                           0.97      1124\n",
      "   macro avg       0.91      0.54      0.60      1124\n",
      "weighted avg       0.97      0.97      0.96      1124\n",
      "\n",
      "\n",
      "confusion_matrix:\n",
      "[[1065    4    0]\n",
      " [  23   23    0]\n",
      " [   5    3    1]]\n"
     ]
    }
   ],
   "source": [
    "ensemble_model.fit(X_train_smote, y_train_smote)\n",
    "acc, f1_mac, f1_wei = evaluate_model(ensemble_model, X_train_smote, y_train_smote, \n",
    "                                    X_test_processed, y_test, \"Ensemble + SMOTE\")\n",
    "results['Ensemble_SMOTE'] = {'accuracy': acc, 'f1_macro': f1_mac, 'f1_weighted': f1_wei}"
   ]
  },
  {
   "cell_type": "code",
   "execution_count": 163,
   "id": "af691e4c",
   "metadata": {},
   "outputs": [
    {
     "name": "stdout",
     "output_type": "stream",
     "text": [
      "                 accuracy  f1_macro  f1_weighted\n",
      "XGBoost_SMOTE    0.967082  0.583952     0.960954\n",
      "RF_ADASYN        0.967972  0.586700     0.961718\n",
      "LGBM_SMOTETomek  0.963523  0.556062     0.955877\n",
      "Ensemble_SMOTE   0.968861  0.596821     0.963363\n"
     ]
    }
   ],
   "source": [
    "\n",
    "results_df = pd.DataFrame(results).T\n",
    "print(results_df)"
   ]
  },
  {
   "cell_type": "code",
   "execution_count": 164,
   "id": "5ae18be9",
   "metadata": {},
   "outputs": [
    {
     "name": "stdout",
     "output_type": "stream",
     "text": [
      "\n",
      " best model: Ensemble_SMOTE\n",
      "F1-Score (Macro): 0.5968\n"
     ]
    }
   ],
   "source": [
    "\n",
    "best_model_name = results_df['f1_macro'].idxmax()\n",
    "print(f\"\\n best model: {best_model_name}\")\n",
    "print(f\"F1-Score (Macro): {results_df.loc[best_model_name, 'f1_macro']:.4f}\")"
   ]
  },
  {
   "cell_type": "code",
   "execution_count": null,
   "id": "877a00d4",
   "metadata": {},
   "outputs": [
    {
     "name": "stdout",
     "output_type": "stream",
     "text": [
      "\n",
      "تم حفظ أفضل نموذج بنجاح!\n",
      "\n",
      "أهم 10 متغيرات:\n",
      "                                 feature  importance\n",
      "34   preop_ecg_Right bundle branch block    0.102280\n",
      "23                                 sex_M    0.070598\n",
      "41  preop_ecg_Premature atrial complexes    0.069257\n",
      "28        preop_ecg_1st degree A-V block    0.050359\n",
      "63                      age_group_middle    0.049961\n",
      "57          preop_pft_Severe restrictive    0.041781\n",
      "29         preop_ecg_Atrial fibrillation    0.040441\n",
      "9                              preop_alb    0.040157\n",
      "53            preop_pft_Mild restrictive    0.031163\n",
      "52            preop_pft_Mild obstructive    0.029698\n"
     ]
    }
   ],
   "source": [
    "# save best model\n",
    "if best_model_name == 'Ensemble_SMOTE':\n",
    "    best_model = ensemble_model\n",
    "    best_preprocessing = preprocessor\n",
    "    \n",
    "    #save model\n",
    "    joblib.dump(best_model, 'best_cardiac_risk_model.pkl')\n",
    "    joblib.dump(best_preprocessing, 'cardiac_risk_preprocessor.pkl')\n",
    "    joblib.dump(smote, 'cardiac_risk_smote.pkl')\n",
    "    \n",
    "\n",
    "    \n",
    "\n",
    "    if hasattr(best_model.named_estimators_['xgb'], 'feature_importances_'):\n",
    "        feature_names = (numeric_cols + \n",
    "                        list(preprocessor.named_transformers_['cat'].get_feature_names_out(categorical_cols)))\n",
    "        \n",
    "        importances = best_model.named_estimators_['xgb'].feature_importances_\n",
    "        feature_importance_df = pd.DataFrame({\n",
    "            'feature': feature_names,\n",
    "            'importance': importances\n",
    "        }).sort_values('importance', ascending=False)\n",
    "        \n",
    "\n",
    "        print(feature_importance_df.head(10))\n",
    "\n",
    "\n"
   ]
  },
  {
   "cell_type": "code",
   "execution_count": 166,
   "id": "4c8090b5",
   "metadata": {},
   "outputs": [
    {
     "name": "stdout",
     "output_type": "stream",
     "text": [
      "\n",
      "Cross-Validation F1-Score: 0.9942 (+/- 0.0042)\n"
     ]
    }
   ],
   "source": [
    "from sklearn.model_selection import cross_val_score\n",
    "\n",
    "cv_scores = cross_val_score(ensemble_model, X_train_smote, y_train_smote, \n",
    "                           cv=StratifiedKFold(n_splits=5, shuffle=True, random_state=42),\n",
    "                           scoring='f1_macro')\n",
    "\n",
    "print(f\"\\nCross-Validation F1-Score: {cv_scores.mean():.4f} (+/- {cv_scores.std() * 2:.4f})\")"
   ]
  },
  {
   "cell_type": "code",
   "execution_count": null,
   "id": "ba4b7b3f",
   "metadata": {},
   "outputs": [
    {
     "data": {
      "image/png": "[encoded data removed]",
      "text/plain": [
       "<Figure size 640x480 with 2 Axes>"
      ]
     },
     "metadata": {},
     "output_type": "display_data"
    },
    {
     "name": "stdout",
     "output_type": "stream",
     "text": [
      "\n",
      "Classification Report:\n",
      "              precision    recall  f1-score   support\n",
      "\n",
      "           0       0.99      0.99      0.99      4273\n",
      "           1       0.99      0.99      0.99      4273\n",
      "           2       1.00      1.00      1.00      4273\n",
      "\n",
      "    accuracy                           0.99     12819\n",
      "   macro avg       0.99      0.99      0.99     12819\n",
      "weighted avg       0.99      0.99      0.99     12819\n",
      "\n"
     ]
    }
   ],
   "source": [
    "from sklearn.model_selection import cross_val_predict\n",
    "from sklearn.metrics import confusion_matrix, ConfusionMatrixDisplay\n",
    "\n",
    "\n",
    "y_cv_preXXX= cross_val_predict(ensemble_model, X_train_smote, y_train_smote,\n",
    "                              cv=StratifiedKFold(n_splits=5, shuffle=True, random_state=42))\n",
    "\n",
    "\n",
    "cm = confusion_matrix(y_train_smote, y_cv_preXXX)\n",
    "disp = ConfusionMatrixDisplay(confusion_matrix=cm)\n",
    "disp.plot(cmap=plt.cm.Blues)\n",
    "plt.title(\"Confusion Matrix - Cross-Validation\")\n",
    "plt.show()\n",
    "\n",
    "\n",
    "print(\"\\nClassification Report:\")\n",
    "print(classification_report(y_train_smote, y_cv_preXXX))\n"
   ]
  },
  {
   "cell_type": "markdown",
   "id": "6a9e3c43",
   "metadata": {},
   "source": [
    "## loading model"
   ]
  },
  {
   "cell_type": "code",
   "execution_count": 172,
   "id": "6658f9c8",
   "metadata": {},
   "outputs": [],
   "source": [
    "loaded_model = joblib.load(os.path.join(model_dir, 'cardiac_risk_ensemble_model.pkl'))\n",
    "loaded_preprocessor = joblib.load(os.path.join(model_dir, 'cardiac_risk_preprocessor.pkl'))\n"
   ]
  },
  {
   "cell_type": "code",
   "execution_count": 173,
   "id": "7b41ac67",
   "metadata": {},
   "outputs": [
    {
     "name": "stdout",
     "output_type": "stream",
     "text": [
      "   age sex   bmi age_group bmi_category preop_htn preop_dm preop_ecg  \\\n",
      "0   65   M  28.5    senior   overweight         Y        N    Normal   \n",
      "\n",
      "  preop_pft  preop_hb  ...  preop_cr  bun_cr_ratio  na_k_ratio  htn_dm  \\\n",
      "0    Normal      12.5  ...       1.1     16.363636   33.333333       1   \n",
      "\n",
      "   hb_by_bun  alb_by_cr  electrolyte_ratio  gluc_by_bmi  hb_by_weight  \\\n",
      "0   0.694444   3.454545          33.333333     3.859649      0.166667   \n",
      "\n",
      "   plt_by_pt  \n",
      "0   19531.25  \n",
      "\n",
      "[1 rows x 30 columns]\n"
     ]
    }
   ],
   "source": [
    "\n",
    "sample_data = pd.DataFrame({\n",
    "    'age': [65],\n",
    "    'sex': ['M'],\n",
    "    'bmi': [28.5],\n",
    "    'age_group': ['senior'],\n",
    "    'bmi_category': ['overweight'],\n",
    "    'preop_htn': ['Y'],\n",
    "    'preop_dm': ['N'],\n",
    "    'preop_ecg': ['Normal'],\n",
    "    'preop_pft': ['Normal'],\n",
    "    'preop_hb': [12.5],\n",
    "    'preop_plt': [250000],\n",
    "    'preop_pt': [12.8],\n",
    "    'preop_aptt': [28.5],\n",
    "    'preop_na': [140],\n",
    "    'preop_k': [4.2],\n",
    "    'preop_gluc': [110],\n",
    "    'preop_alb': [3.8],\n",
    "    'preop_ast': [28],\n",
    "    'preop_alt': [32],\n",
    "    'preop_bun': [18],\n",
    "    'preop_cr': [1.1],\n",
    "    'bun_cr_ratio': [18/1.1],\n",
    "    'na_k_ratio': [140/4.2],\n",
    "    'htn_dm': [1],\n",
    "    'hb_by_bun': [12.5/18],\n",
    "    'alb_by_cr': [3.8/1.1],\n",
    "    'electrolyte_ratio': [140/4.2],\n",
    "    'gluc_by_bmi': [110/28.5],\n",
    "    'hb_by_weight': [12.5/75],  \n",
    "    'plt_by_pt': [250000/12.8]\n",
    "})\n",
    "\n",
    "\n",
    "print(sample_data.head())"
   ]
  },
  {
   "cell_type": "code",
   "execution_count": 174,
   "id": "cfc4b354",
   "metadata": {},
   "outputs": [
    {
     "name": "stdout",
     "output_type": "stream",
     "text": [
      " (1, 66)\n"
     ]
    }
   ],
   "source": [
    "\n",
    "sample_processed = loaded_preprocessor.transform(sample_data)\n",
    "\n",
    "print(f\" {sample_processed.shape}\")\n"
   ]
  },
  {
   "cell_type": "code",
   "execution_count": 175,
   "id": "b0a7c236",
   "metadata": {},
   "outputs": [],
   "source": [
    "\n",
    "prediction = loaded_model.predict(sample_processed)\n",
    "prediction_proba = loaded_model.predict_proba(sample_processed)"
   ]
  },
  {
   "cell_type": "code",
   "execution_count": 176,
   "id": "8d5f09a2",
   "metadata": {},
   "outputs": [
    {
     "name": "stdout",
     "output_type": "stream",
     "text": [
      "\n",
      "===prediction ===\n",
      "  0    ----  (Stable)\n",
      "   (Stable): 0.9283 (92.83%)\n",
      "   (Moderate): 0.0421 (4.21%)\n",
      "   (Critical): 0.0296 (2.96%)\n"
     ]
    }
   ],
   "source": [
    "risk_levels = {0: ' (Stable)', 1: ' (Moderate)', 2: ' (Critical)'}\n",
    "\n",
    "print(\"\\n===prediction ===\")\n",
    "print(f\"  {prediction[0]}    ---- {risk_levels[prediction[0]]}\")\n",
    "\n",
    "for i, prob in enumerate(prediction_proba[0]):\n",
    "    print(f\"  {risk_levels[i]}: {prob:.4f} ({prob*100:.2f}%)\")"
   ]
  },
  {
   "cell_type": "code",
   "execution_count": null,
   "id": "229af6c8",
   "metadata": {},
   "outputs": [],
   "source": []
  }
 ],
 "metadata": {
  "kernelspec": {
   "display_name": "Python (ecg_env)",
   "language": "python",
   "name": "your_env_name"
  },
  "language_info": {
   "codemirror_mode": {
    "name": "ipython",
    "version": 3
   },
   "file_extension": ".py",
   "mimetype": "text/x-python",
   "name": "python",
   "nbconvert_exporter": "python",
   "pygments_lexer": "ipython3",
   "version": "3.10.18"
  }
 },
 "nbformat": 4,
 "nbformat_minor": 5
}
